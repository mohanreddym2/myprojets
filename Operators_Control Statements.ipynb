{
  "nbformat": 4,
  "nbformat_minor": 0,
  "metadata": {
    "colab": {
      "name": "Untitled3.ipynb",
      "provenance": [],
      "collapsed_sections": [],
      "authorship_tag": "ABX9TyOwn1fa1DKHezO+W9ZKJzpa",
      "include_colab_link": true
    },
    "kernelspec": {
      "name": "python3",
      "display_name": "Python 3"
    },
    "language_info": {
      "name": "python"
    }
  },
  "cells": [
    {
      "cell_type": "markdown",
      "metadata": {
        "id": "view-in-github",
        "colab_type": "text"
      },
      "source": [
        "<a href=\"https://colab.research.google.com/github/mohanreddym2/myprojets/blob/Develop/Operators_Control%20Statements.ipynb\" target=\"_parent\"><img src=\"https://colab.research.google.com/assets/colab-badge.svg\" alt=\"Open In Colab\"/></a>"
      ]
    },
    {
      "cell_type": "code",
      "source": [
        "print(True == 1)"
      ],
      "metadata": {
        "colab": {
          "base_uri": "https://localhost:8080/"
        },
        "id": "Dbu6MbTcwQdD",
        "outputId": "82293dcf-2c61-4251-be0e-4bfffb5518cc"
      },
      "execution_count": 16,
      "outputs": [
        {
          "output_type": "stream",
          "name": "stdout",
          "text": [
            "True\n"
          ]
        }
      ]
    },
    {
      "cell_type": "code",
      "execution_count": 14,
      "metadata": {
        "colab": {
          "base_uri": "https://localhost:8080/"
        },
        "id": "eYauwtBTll9U",
        "outputId": "c1635e7d-3dc8-4e35-fd93-6381238a7a53"
      },
      "outputs": [
        {
          "output_type": "stream",
          "name": "stdout",
          "text": [
            "True\n"
          ]
        }
      ],
      "source": [
        "print(False or not False and True)\n"
      ]
    },
    {
      "cell_type": "code",
      "source": [
        "n = int(input())\n",
        "lst= [\"January\",\"February\",\"March\",\"April\",\"May\",\"June\",\"July\",\"August\",\"September\",\"October\", \"November\",\"December\"]\n",
        "print(lst[n-1])"
      ],
      "metadata": {
        "colab": {
          "base_uri": "https://localhost:8080/"
        },
        "id": "w4-Hvwwxvm-i",
        "outputId": "71e39075-c1a4-4939-b283-b9a288b03eed"
      },
      "execution_count": 10,
      "outputs": [
        {
          "output_type": "stream",
          "name": "stdout",
          "text": [
            "2\n",
            "February\n"
          ]
        }
      ]
    },
    {
      "cell_type": "code",
      "source": [
        "print(\"Rahul\", \"Rohit\", \"Emma watson\", sep = \" \")\n",
        "print(\"Yash KGF\")"
      ],
      "metadata": {
        "colab": {
          "base_uri": "https://localhost:8080/"
        },
        "id": "jOHZ4tFwoRqe",
        "outputId": "817530b0-bc93-49c3-c02c-cf73ac117811"
      },
      "execution_count": null,
      "outputs": [
        {
          "output_type": "stream",
          "name": "stdout",
          "text": [
            "Rahul Rohit Emma watson\n",
            "Yash KGF\n"
          ]
        }
      ]
    },
    {
      "cell_type": "code",
      "source": [
        "print(10+10)"
      ],
      "metadata": {
        "colab": {
          "base_uri": "https://localhost:8080/"
        },
        "id": "zCmdCU0BoRod",
        "outputId": "6118de1c-4d3a-4b56-8dc0-7d3985bb60ca"
      },
      "execution_count": null,
      "outputs": [
        {
          "output_type": "stream",
          "name": "stdout",
          "text": [
            "20\n"
          ]
        }
      ]
    },
    {
      "cell_type": "code",
      "source": [
        ""
      ],
      "metadata": {
        "id": "usIL8W5YoRPV"
      },
      "execution_count": null,
      "outputs": []
    },
    {
      "cell_type": "code",
      "source": [
        "def main():\n",
        "\n",
        "    # YOUR CODE GOES HERE\n",
        "\n",
        "    # Please take input and print output to standard input/output (stdin/stdout)\n",
        "\n",
        "    # E.g. 'input()/raw_input()' for input & 'print' for output\n",
        "\n",
        "    n = int(input())\n",
        "\n",
        "    if(n%2 == 1):\n",
        "\n",
        "        if(n >= 2100):\n",
        "\n",
        "            print(\"grand master\")\n",
        "\n",
        "        elif(n >= 1900):\n",
        "\n",
        "            print(\"candidate master\")\n",
        "\n",
        "        elif(n >= 1600):\n",
        "\n",
        "            print(\"expert\")\n",
        "\n",
        "        elif(n >= 1400):\n",
        "\n",
        "            print(\"pupil\")\n",
        "\n",
        "        else :\n",
        "\n",
        "            print(\"newbie\")\n",
        "\n",
        "    else :\n",
        "\n",
        "        if(n >= 2100):\n",
        "\n",
        "            print(\"GRAND MASTER\")\n",
        "\n",
        "        elif(n >= 1900):\n",
        "\n",
        "            print(\"CANDIDATE MASTER\")\n",
        "\n",
        "        elif(n >= 1600):\n",
        "\n",
        "            print(\"EXPERT\")\n",
        "\n",
        "        elif(n >= 1400):\n",
        "\n",
        "            print(\"PUPIL\")\n",
        "\n",
        "        else :\n",
        "\n",
        "            print(\"NEWBIE\")\n",
        "\n",
        "    return 0\n",
        "\n",
        "if __name__ == '__main__':\n",
        "\n",
        "    main()"
      ],
      "metadata": {
        "colab": {
          "base_uri": "https://localhost:8080/"
        },
        "id": "Hw_HJEOlAPY1",
        "outputId": "2520ba63-e01e-4bbc-c239-6b26d73cb482"
      },
      "execution_count": 30,
      "outputs": [
        {
          "output_type": "stream",
          "name": "stdout",
          "text": [
            "2088\n",
            "CANDIDATE MASTER\n"
          ]
        }
      ]
    },
    {
      "cell_type": "code",
      "source": [
        "def main():\n",
        "    A = int(input())\n",
        "    if  A >= 2100:\n",
        "        print(\"GRAND MASTER\")\n",
        "    elif A < 2100 and A >= 1900:\n",
        "        print(\"CANDIDATE MASTER\")\n",
        "    elif A < 1900 and  A >= 1600:\n",
        "        print(\"EXPERT\")\n",
        "    elif A < 1600 or A >= 1400:\n",
        "        print(\"PUPIL\")\n",
        "    else:\n",
        "        print(\"NEWBIE\")\n",
        "    def printOut(r, t):\n",
        "        if r%2:\n",
        "            print(t.lower())\n",
        "        else:\n",
        "            print(t.upper())\n",
        "\n",
        "    # YOUR CODE GOES HERE\n",
        "    # Please take input and print output to standard input/output (stdin/stdout)\n",
        "    # E.g. 'input()/raw_input()' for input & 'print' for output\n",
        "\n",
        "    return 0\n",
        "\n",
        "if __name__ == '__main__':\n",
        "    main()"
      ],
      "metadata": {
        "colab": {
          "base_uri": "https://localhost:8080/"
        },
        "id": "WI-yJnPgYA_j",
        "outputId": "45bffe3c-28b1-417e-810e-4106eeaae9f6"
      },
      "execution_count": 31,
      "outputs": [
        {
          "output_type": "stream",
          "name": "stdout",
          "text": [
            "2088\n",
            "CANDIDATE MASTER\n"
          ]
        }
      ]
    }
  ]
}