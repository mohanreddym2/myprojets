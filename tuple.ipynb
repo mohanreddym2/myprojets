{
  "nbformat": 4,
  "nbformat_minor": 0,
  "metadata": {
    "colab": {
      "name": "tuple.ipynb",
      "provenance": [],
      "authorship_tag": "ABX9TyNTyPaDBCJqSAWhaOw2Rrof",
      "include_colab_link": true
    },
    "kernelspec": {
      "name": "python3",
      "display_name": "Python 3"
    },
    "language_info": {
      "name": "python"
    }
  },
  "cells": [
    {
      "cell_type": "markdown",
      "metadata": {
        "id": "view-in-github",
        "colab_type": "text"
      },
      "source": [

        "<a href=\"https://colab.research.google.com/github/mohanreddym2/myprojets/blob/main/tuple.ipynb\" target=\"_parent\"><img src=\"https://colab.research.google.com/assets/colab-badge.svg\" alt=\"Open In Colab\"/></a>"

      ]
    },
    {
      "cell_type": "code",
      "execution_count": null,
      "metadata": {
        "colab": {
          "base_uri": "https://localhost:8080/"
        },
        "id": "wBnKlKTTnKVM",
        "outputId": "ac171e25-f673-4894-cc0e-66451dbc1715"
      },
      "outputs": [
        {
          "output_type": "stream",
          "name": "stdout",
          "text": [
            "1\n"
          ]
        }
      ],
      "source": [
        "print(1)"
      ]
    },
    {
      "cell_type": "code",
      "source": [
        "s = 'restarted'\n",
        "res = s[0]+s[1:]+s.replace(s[0],\"$\")\n",
        "print(res)"
      ],
      "metadata": {
        "colab": {
          "base_uri": "https://localhost:8080/"
        },
        "id": "AHNPrphUIp5v",
        "outputId": "8b911563-c075-4ade-e0f0-0324fd39ce5e"
      },
      "execution_count": null,
      "outputs": [
        {
          "output_type": "stream",
          "name": "stdout",
          "text": [
            "restarted$esta$ted\n"
          ]
        }
      ]
    },
    {
      "cell_type": "code",
      "source": [
        "n = int(input())\n",
        "n_mat = []\n",
        "for i in range(n):\n",
        "       lst = input().split()\n",
        "       for i in lst:\n",
        "         n_mat.append(int(i))\n",
        "        #n_mat.append(n_matrix)\n",
        "print(n_mat)"
      ],
      "metadata": {
        "colab": {
          "base_uri": "https://localhost:8080/"
        },
        "id": "p04OjgeBTrUD",
        "outputId": "8d524e24-76c9-41be-eccf-644f2ff1aa13"
      },
      "execution_count": null,
      "outputs": [
        {
          "output_type": "stream",
          "name": "stdout",
          "text": [
            "2\n",
            "1 2 3\n",
            "3 4 5\n",
            "[1, 2, 3, 3, 4, 5]\n"
          ]
        }
      ]
    },
    {
      "cell_type": "code",
      "source": [
        "n= 2\n",
        "a = []\n",
        "for number in range(n):\n",
        "  lst = list(input().split())\n",
        "  a.append(lst)\n",
        "  \n",
        "print(a)"
      ],
      "metadata": {
        "colab": {
          "base_uri": "https://localhost:8080/"
        },
        "id": "QyKtgyhVYEDg",
        "outputId": "56aa2131-c303-43d1-9727-f589b741ac81"
      },
      "execution_count": null,
      "outputs": [
        {
          "output_type": "stream",
          "name": "stdout",
          "text": [
            "2 3 4\n",
            "2 4 5\n",
            "[['2', '3', '4'], ['2', '4', '5']]\n"
          ]
        }
      ]
    },
    {
      "cell_type": "code",
      "source": [
        "n = int(input())\n",
        "numbers = input().split()\n",
        "a =[]\n",
        "for number in numbers:\n",
        "  a.append(int(number))\n",
        "print(a)"
      ],
      "metadata": {
        "colab": {
          "base_uri": "https://localhost:8080/"
        },
        "id": "_Bl8N8-Bar1p",
        "outputId": "ec5b0bd0-1c3a-405f-be48-5be6b015e1ed"
      },
      "execution_count": null,
      "outputs": [
        {
          "output_type": "stream",
          "name": "stdout",
          "text": [
            "5\n",
            "1 2 3 4\n",
            "[1, 2, 3, 4]\n"
          ]
        }
      ]
    },
    {
      "cell_type": "code",
      "source": [
        "a = 'i-am-awesome'\n",
        "b = a.split('-')\n",
        "print(len(b))"
      ],
      "metadata": {
        "colab": {
          "base_uri": "https://localhost:8080/"
        },
        "id": "WaAKfDfInWmn",
        "outputId": "26dda1cf-3074-417b-94de-28979bba4301"
      },
      "execution_count": null,
      "outputs": [
        {
          "output_type": "stream",
          "name": "stdout",
          "text": [
            "3\n"
          ]
        }
      ]
    },
    {
      "cell_type": "code",
      "source": [
        "n = int(input())\n",
        "n_mat = []\n",
        "for i in range(n):\n",
        "        lst = list(map(int, input().split()))\n",
        "        n_mat.append(lst)\n",
        "for j in range(n):\n",
        "        if j%2 == 0:\n",
        "            for i in range(n):\n",
        "                print(n_mat[i][j], end = ' ')\n",
        "        else:\n",
        "            for i in range(n-1,-1,-1):\n",
        "                print(n_mat[i][j], end = ' ')"
      ],
      "metadata": {
        "colab": {
          "base_uri": "https://localhost:8080/"
        },
        "id": "7x0cuDGPdCJR",
        "outputId": "2450f5c4-7736-4e93-9a78-f58fbb80c2e4"
      },
      "execution_count": null,
      "outputs": [
        {
          "output_type": "stream",
          "name": "stdout",
          "text": [
            "2\n",
            "1 2\n",
            "3 4\n",
            "1 3 4 2 "
          ]
        }
      ]
    },
    {
      "cell_type": "code",
      "source": [
        ""
      ],
      "metadata": {
        "id": "uhXoOON2lN7O"
      },
      "execution_count": null,
      "outputs": []
    },
    {
      "cell_type": "code",
      "source": [
        "\n",
        "s1 = 'abc'\n",
        "s2 = 'xyz'\n",
        "str1 = s2[:2] + s1[2:] + ' ' + s1[:2] + s2[2:]\n",
        "str2 = s2[0:2] + s1[-1]+ ' '+ s1[0:2] +s2[-1]\n",
        "\n",
        "print(str1)\n",
        "print(str2)"
      ],
      "metadata": {
        "colab": {
          "base_uri": "https://localhost:8080/"
        },
        "id": "oElrBD9blOFN",
        "outputId": "9d41c17a-6ac0-41c6-bbc6-ddf46315c23f"
      },
      "execution_count": null,
      "outputs": [
        {
          "output_type": "stream",
          "name": "stdout",
          "text": [
            "xyc abz\n",
            "xyc abz\n"
          ]
        }
      ]
    },
    {
      "cell_type": "code",
      "source": [
        "s ='input_string'\n",
        "print('e'.split(s, 2))\n",
        "print(s.split('e', 2))\n",
        "print('e'.split(s, maxsplit=2))\n",
        "print(s.split('e', maxsplit=2))"
      ],
      "metadata": {
        "colab": {
          "base_uri": "https://localhost:8080/"
        },
        "id": "cbQM3p2usqLm",
        "outputId": "49016563-b8a3-4f46-a657-c35f77b5f7e7"
      },
      "execution_count": null,
      "outputs": [
        {
          "output_type": "stream",
          "name": "stdout",
          "text": [
            "['e']\n",
            "['input_string']\n",
            "['e']\n",
            "['input_string']\n"
          ]
        }
      ]
    },
    {
      "cell_type": "code",
      "source": [
        "n= int(input())\n",
        "lst = []    \n",
        "for num in range(n):\n",
        "        lst.append(num)\n",
        "print(lst)"
      ],
      "metadata": {
        "colab": {
          "base_uri": "https://localhost:8080/"
        },
        "id": "w3mys7fj_NUk",
        "outputId": "023b951f-e267-4eb4-da3e-1913e703cb19"
      },
      "execution_count": null,
      "outputs": [
        {
          "output_type": "stream",
          "name": "stdout",
          "text": [
            "4\n",
            "[0, 1, 2, 3]\n"
          ]
        }
      ]
    },
    {
      "cell_type": "code",
      "source": [
        "a='d'\n",
        "b='a'\n",
        "c='d'\n",
        "print(a+b+c)"
      ],
      "metadata": {
        "colab": {
          "base_uri": "https://localhost:8080/"
        },
        "id": "uJZIPwMLnWkf",
        "outputId": "7cd40792-629d-409e-f120-38a9bd3abe9d"
      },
      "execution_count": null,
      "outputs": [
        {
          "output_type": "stream",
          "name": "stdout",
          "text": [
            "dad\n"
          ]
        }
      ]
    },
    {
      "cell_type": "code",
      "source": [
        "#T test case for coutn upper case letters\n",
        "\n",
        "T=int(input())\n",
        "for i in range(T):\n",
        "  A=input()\n",
        "  s = 0\n",
        "  for j in A:\n",
        "     if j.isupper():\n",
        "        s = s + 1\n",
        "  print(s)\n",
        "\n",
        "      \n",
        "\n",
        "    "
      ],
      "metadata": {
        "colab": {
          "base_uri": "https://localhost:8080/"
        },
        "id": "JXK2dZQ7dPq4",
        "outputId": "78a8eddb-80e1-45ff-eae1-c0a701d5d286"
      },
      "execution_count": null,
      "outputs": [
        {
          "output_type": "stream",
          "name": "stdout",
          "text": [
            "5\n",
            "Mo\n",
            "1\n",
            "REDDYMO\n",
            "7\n",
            "B\n",
            "1\n",
            "CCCCC\n",
            "5\n",
            "DDD\n",
            "3\n"
          ]
        }
      ]
    }
  ]
}