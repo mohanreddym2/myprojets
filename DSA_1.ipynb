{
  "nbformat": 4,
  "nbformat_minor": 0,
  "metadata": {
    "colab": {
      "name": "DSA_1.ipynb",
      "provenance": [],
      "authorship_tag": "ABX9TyO/q9ImiXYlf1HFOfOVfgZH",
      "include_colab_link": true
    },
    "kernelspec": {
      "name": "python3",
      "display_name": "Python 3"
    },
    "language_info": {
      "name": "python"
    }
  },
  "cells": [
    {
      "cell_type": "markdown",
      "metadata": {
        "id": "view-in-github",
        "colab_type": "text"
      },
      "source": [
        "<a href=\"https://colab.research.google.com/github/mohanreddym2/myprojets/blob/Develop/DSA_1.ipynb\" target=\"_parent\"><img src=\"https://colab.research.google.com/assets/colab-badge.svg\" alt=\"Open In Colab\"/></a>"
      ]
    },
    {
      "cell_type": "code",
      "execution_count": 7,
      "metadata": {
        "colab": {
          "base_uri": "https://localhost:8080/"
        },
        "id": "unaWl7kqbSSs",
        "outputId": "8c02180c-28ee-4200-9f76-c094020ddbc9"
      },
      "outputs": [
        {
          "output_type": "stream",
          "name": "stdout",
          "text": [
            "prime\n",
            "no prime\n",
            "no prime\n"
          ]
        }
      ],
      "source": [
        "#prime or not\n",
        "import math\n",
        "A=10\n",
        "if A==1: \n",
        "  print(\"prime\")\n",
        "for i in range(2,int(math.sqrt(A)+1)):\n",
        "  if A%i==0: \n",
        "      print(\"prime\")\n",
        "      \n",
        "  print(\"no prime\")"
      ]
    },
    {
      "cell_type": "code",
      "source": [
        "#print prime numbers\n",
        "\n",
        "n=int(input())\n",
        "for i in range(2,n+1):\n",
        "        notPrime=0\n",
        "        for j in range(2,i):\n",
        "            if(i%j!=0):\n",
        "                continue\n",
        "            else:\n",
        "                notPrime=1\n",
        "                break\n",
        "        if(notPrime==0):\n",
        "            print(i)\n"
      ],
      "metadata": {
        "colab": {
          "base_uri": "https://localhost:8080/"
        },
        "id": "nZgtS9ycx6pF",
        "outputId": "54885ca3-6ca8-4d81-ed0b-9bd4b287df89"
      },
      "execution_count": 8,
      "outputs": [
        {
          "output_type": "stream",
          "name": "stdout",
          "text": [
            "5\n",
            "2\n",
            "3\n",
            "5\n"
          ]
        }
      ]
    },
    {
      "cell_type": "code",
      "source": [
        "#count prirme numbers in given number\n",
        "A = 5\n",
        "cnt = 0\n",
        "for i in range(1,A+1) :\n",
        "    factors = 0\n",
        "    for j in range(1,i+1) :\n",
        "        if i%j==0 :\n",
        "            factors = factors + 1\n",
        "    if factors==2 :\n",
        "        cnt = cnt + 1\n",
        "               \n",
        "print(cnt)"
      ],
      "metadata": {
        "colab": {
          "base_uri": "https://localhost:8080/"
        },
        "id": "NCaKdX_KyIbc",
        "outputId": "d16aac88-03ac-4949-8e86-b2d5bf4dc57b"
      },
      "execution_count": 10,
      "outputs": [
        {
          "output_type": "stream",
          "name": "stdout",
          "text": [
            "3\n"
          ]
        }
      ]
    },
    {
      "cell_type": "code",
      "source": [
        "import math\n",
        "A =4\n",
        "print(int((A**1/2)//1))\n",
        "print(math.sqrt(A))\n"
      ],
      "metadata": {
        "colab": {
          "base_uri": "https://localhost:8080/"
        },
        "id": "-4OaWI_H4aWA",
        "outputId": "a882242f-73a8-476b-9cca-66b442dd93be"
      },
      "execution_count": 14,
      "outputs": [
        {
          "output_type": "stream",
          "name": "stdout",
          "text": [
            "2\n",
            "2.0\n"
          ]
        }
      ]
    }
  ]
}